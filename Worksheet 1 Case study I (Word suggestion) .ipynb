{
 "cells": [
  {
   "cell_type": "markdown",
   "id": "28c7bebf",
   "metadata": {},
   "source": [
    "# Case Study (Word Suggestion)\n",
    "\n",
    "### Predict the next word! Can you build a word suggestion system using only what's built-in Python, analyzing text and suggesting the most likely next word based on word co-occurrence?\n"
   ]
  },
  {
   "cell_type": "markdown",
   "id": "f633eab8",
   "metadata": {},
   "source": [
    "Dear students, in our upcoming class session, we're diving into an exciting micro project: constructing a Word Suggestion System using only Python's built-in features. This practical endeavor involves not only text preprocessing but also delves into the intricate relationships between words through co-occurrence analysis. As we prompt users for input and offer the most likely next word, we'll subtly echo the concepts of string manipulation, lists, loops, and conditionals. The hands-on nature of this project ensures a dynamic exploration of Python's capabilities, showcasing their application in creating a robust word suggestion system. Your active participation, questions, and collaboration will be crucial for a comprehensive learning experience."
   ]
  },
  {
   "cell_type": "markdown",
   "id": "9ae87384",
   "metadata": {},
   "source": [
    "## Text Preprocessing:\n"
   ]
  },
  {
   "cell_type": "code",
   "execution_count": 1,
   "id": "f9655ac2",
   "metadata": {},
   "outputs": [
    {
     "name": "stdout",
     "output_type": "stream",
     "text": [
      "['This', 'is', 'a', 'sample', 'text.', 'You', 'can', 'replace', 'this', 'with', 'your', 'own', 'data.']\n"
     ]
    }
   ],
   "source": [
    "# Text Preprocessing\n",
    "text = \"This is a sample text. You can replace this with your own data.\"\n",
    "\n",
    "# Tokenize each word\n",
    "text_tokens = text.split(\" \")\n",
    "print(text_tokens)"
   ]
  },
  {
   "cell_type": "code",
   "execution_count": 2,
   "id": "3fa3dcb1",
   "metadata": {},
   "outputs": [
    {
     "name": "stdout",
     "output_type": "stream",
     "text": [
      "['this', 'is', 'a', 'sample', 'text', 'you', 'can', 'replace', 'this', 'with', 'your', 'own', 'data']\n"
     ]
    }
   ],
   "source": [
    "# Remove punctuation and convert to lowercase\n",
    "import string\n",
    "text_tokens = [token.strip(string.punctuation).lower() for token in text_tokens]\n",
    "print(text_tokens)"
   ]
  },
  {
   "cell_type": "code",
   "execution_count": 3,
   "id": "c48417a1",
   "metadata": {},
   "outputs": [
    {
     "name": "stdout",
     "output_type": "stream",
     "text": [
      "['text', 'data', 'you', 'your', 'this', 'a', 'with', 'own', 'is', 'sample', 'replace', 'can']\n"
     ]
    }
   ],
   "source": [
    "# Create a list of all unique words\n",
    "text_tokens = list(set(text_tokens))\n",
    "print(text_tokens)"
   ]
  },
  {
   "cell_type": "markdown",
   "id": "8ff0646f",
   "metadata": {},
   "source": [
    "## Building Co-occurrence Matrix:\n"
   ]
  },
  {
   "cell_type": "code",
   "execution_count": 4,
   "id": "fb109b31",
   "metadata": {},
   "outputs": [
    {
     "name": "stdout",
     "output_type": "stream",
     "text": [
      "[[0. 0. 0. 0. 0. 0. 0. 0. 0. 0. 0. 0.]\n",
      " [0. 0. 0. 0. 0. 0. 0. 0. 0. 0. 0. 0.]\n",
      " [0. 0. 0. 0. 0. 0. 0. 0. 0. 0. 0. 0.]\n",
      " [0. 0. 0. 0. 0. 0. 0. 0. 0. 0. 0. 0.]\n",
      " [0. 0. 0. 0. 0. 0. 0. 0. 0. 0. 0. 0.]\n",
      " [0. 0. 0. 0. 0. 0. 0. 0. 0. 0. 0. 0.]\n",
      " [0. 0. 0. 0. 0. 0. 0. 0. 0. 0. 0. 0.]\n",
      " [0. 0. 0. 0. 0. 0. 0. 0. 0. 0. 0. 0.]\n",
      " [0. 0. 0. 0. 0. 0. 0. 0. 0. 0. 0. 0.]\n",
      " [0. 0. 0. 0. 0. 0. 0. 0. 0. 0. 0. 0.]\n",
      " [0. 0. 0. 0. 0. 0. 0. 0. 0. 0. 0. 0.]\n",
      " [0. 0. 0. 0. 0. 0. 0. 0. 0. 0. 0. 0.]]\n"
     ]
    }
   ],
   "source": [
    "# Initialize Distance Matrix\n",
    "import numpy as np\n",
    "dist_matrix = np.zeros((len(text_tokens), len(text_tokens)))\n",
    "print(dist_matrix)"
   ]
  },
  {
   "cell_type": "code",
   "execution_count": 5,
   "id": "e64da219",
   "metadata": {},
   "outputs": [
    {
     "name": "stdout",
     "output_type": "stream",
     "text": [
      "[0. 0. 0. 0. 0. 0. 0. 0. 0. 0. 0. 0.] \t text\n",
      "[0. 0. 0. 0. 0. 0. 0. 0. 0. 0. 0. 0.] \t data\n",
      "[0. 0. 0. 0. 0. 0. 0. 0. 0. 0. 0. 0.] \t you\n",
      "[0. 0. 0. 0. 0. 0. 0. 1. 0. 0. 0. 0.] \t your\n",
      "[0. 0. 0. 0. 0. 0. 1. 0. 0. 0. 0. 0.] \t this\n",
      "[0. 0. 0. 0. 0. 0. 0. 0. 0. 1. 0. 0.] \t a\n",
      "[0. 0. 1. 1. 0. 0. 0. 0. 0. 0. 0. 0.] \t with\n",
      "[0. 1. 0. 0. 0. 0. 0. 0. 0. 0. 0. 0.] \t own\n",
      "[0. 0. 0. 0. 0. 1. 1. 0. 0. 0. 0. 0.] \t is\n",
      "[1. 0. 0. 0. 0. 0. 0. 0. 0. 0. 0. 0.] \t sample\n",
      "[0. 0. 0. 0. 1. 0. 0. 0. 0. 0. 0. 0.] \t replace\n",
      "[0. 0. 0. 0. 0. 0. 0. 0. 0. 0. 1. 0.] \t can\n"
     ]
    }
   ],
   "source": [
    "# Building Co-occurrence Matrix\n",
    "for i in range(len(text_tokens)):\n",
    "    for j in range(len(text_tokens)):\n",
    "        if i != j:\n",
    "            dist_matrix[i][j] = text.count(text_tokens[i] + \" \" + text_tokens[j])\n",
    "    print(dist_matrix[i], \"\\t\", text_tokens[i])"
   ]
  },
  {
   "cell_type": "code",
   "execution_count": 6,
   "id": "eced5458",
   "metadata": {},
   "outputs": [
    {
     "name": "stdout",
     "output_type": "stream",
     "text": [
      "\t text\t data\t you\t your\t this\t a\t with\t own\t is\t sample\t replace\t can\n",
      "text \t0 \t0 \t0 \t0 \t0 \t0 \t0 \t0 \t0 \t0 \t0 \t0 \t\n",
      "data \t0 \t0 \t0 \t0 \t0 \t0 \t0 \t0 \t0 \t0 \t0 \t0 \t\n",
      "you \t0 \t0 \t0 \t0 \t0 \t0 \t0 \t0 \t0 \t0 \t0 \t0 \t\n",
      "your \t0 \t0 \t0 \t0 \t0 \t0 \t0 \t1 \t0 \t0 \t0 \t0 \t\n",
      "this \t0 \t0 \t0 \t0 \t0 \t0 \t1 \t0 \t0 \t0 \t0 \t0 \t\n",
      "a \t0 \t0 \t0 \t0 \t0 \t0 \t0 \t0 \t0 \t1 \t0 \t0 \t\n",
      "with \t0 \t0 \t1 \t1 \t0 \t0 \t0 \t0 \t0 \t0 \t0 \t0 \t\n",
      "own \t0 \t1 \t0 \t0 \t0 \t0 \t0 \t0 \t0 \t0 \t0 \t0 \t\n",
      "is \t0 \t0 \t0 \t0 \t0 \t1 \t1 \t0 \t0 \t0 \t0 \t0 \t\n",
      "sample \t1 \t0 \t0 \t0 \t0 \t0 \t0 \t0 \t0 \t0 \t0 \t0 \t\n",
      "replace 0 \t0 \t0 \t0 \t1 \t0 \t0 \t0 \t0 \t0 \t0 \t0 \t\n",
      "can \t0 \t0 \t0 \t0 \t0 \t0 \t0 \t0 \t0 \t0 \t1 \t0 \t\n"
     ]
    }
   ],
   "source": [
    "# Print Distance Matrix\n",
    "for k in range (len(text_tokens)):\n",
    "    print(\"\\t\", text_tokens[k], end=\"\")\n",
    "print()\n",
    "for i in range(len(text_tokens)):\n",
    "    if(text_tokens[i] == \"replace\"):\n",
    "        print(text_tokens[i], \"\", end=\"\")\n",
    "    else:\n",
    "        print(text_tokens[i], \"\\t\", end=\"\")\n",
    "    for j in range(len(text_tokens)):\n",
    "        print(int(dist_matrix[i][j]), \"\\t\", end=\"\")\n",
    "    print()"
   ]
  },
  {
   "cell_type": "markdown",
   "id": "33681ebc",
   "metadata": {},
   "source": [
    "## Top Suggestion:\n"
   ]
  },
  {
   "cell_type": "code",
   "execution_count": 16,
   "id": "f729d2de",
   "metadata": {},
   "outputs": [
    {
     "name": "stdout",
     "output_type": "stream",
     "text": [
      "Top suggestion:  with\n"
     ]
    }
   ],
   "source": [
    "# Ask user to input a word\n",
    "user_input = input(\"Enter a word: \")\n",
    "\n",
    "# Find top suggestion\n",
    "if user_input in text_tokens:\n",
    "    index_of_user_input = text_tokens.index(user_input)\n",
    "    max_value=max(dist_matrix[index_of_user_input])\n",
    "    index_of_max_value = np.where(dist_matrix[index_of_user_input] == max_value)\n",
    "    print(\"Top suggestion: \", text_tokens[index_of_max_value[0][0]])\n",
    "\n",
    "# Print Top Suggestion\n",
    "\n"
   ]
  },
  {
   "cell_type": "code",
   "execution_count": null,
   "id": "fe496f18",
   "metadata": {},
   "outputs": [],
   "source": []
  },
  {
   "cell_type": "markdown",
   "id": "e40d01ff",
   "metadata": {},
   "source": [
    "## Task\n",
    "### Modify the existing code in such a way that\n",
    "1. It will suggest 3 words instead of 1\n",
    "2. Split the entire code into different functions\n",
    "4. Use a text file as sourece instead of a sring"
   ]
  },
  {
   "cell_type": "code",
   "execution_count": null,
   "id": "5ed65b75",
   "metadata": {},
   "outputs": [],
   "source": []
  }
 ],
 "metadata": {
  "kernelspec": {
   "display_name": "Python 3 (ipykernel)",
   "language": "python",
   "name": "python3"
  },
  "language_info": {
   "codemirror_mode": {
    "name": "ipython",
    "version": 3
   },
   "file_extension": ".py",
   "mimetype": "text/x-python",
   "name": "python",
   "nbconvert_exporter": "python",
   "pygments_lexer": "ipython3",
   "version": "3.11.5"
  }
 },
 "nbformat": 4,
 "nbformat_minor": 5
}
