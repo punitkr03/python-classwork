{
 "cells": [
  {
   "cell_type": "markdown",
   "id": "28c7bebf",
   "metadata": {},
   "source": [
    "# Case Study (Word Suggestion)\n",
    "\n",
    "### Predict the next word! Can you build a word suggestion system using only what's built-in Python, analyzing text and suggesting the most likely next word based on word co-occurrence?\n"
   ]
  },
  {
   "cell_type": "markdown",
   "id": "f633eab8",
   "metadata": {},
   "source": [
    "Dear students, in our upcoming class session, we're diving into an exciting micro project: constructing a Word Suggestion System using only Python's built-in features. This practical endeavor involves not only text preprocessing but also delves into the intricate relationships between words through co-occurrence analysis. As we prompt users for input and offer the most likely next word, we'll subtly echo the concepts of string manipulation, lists, loops, and conditionals. The hands-on nature of this project ensures a dynamic exploration of Python's capabilities, showcasing their application in creating a robust word suggestion system. Your active participation, questions, and collaboration will be crucial for a comprehensive learning experience."
   ]
  },
  {
   "cell_type": "markdown",
   "id": "9ae87384",
   "metadata": {},
   "source": [
    "## Text Preprocessing:\n"
   ]
  },
  {
   "cell_type": "code",
   "execution_count": 1,
   "id": "f9655ac2",
   "metadata": {},
   "outputs": [
    {
     "name": "stdout",
     "output_type": "stream",
     "text": [
      "['This', 'is', 'a', 'sample', 'text.', 'You', 'can', 'replace', 'this', 'with', 'your', 'own', 'data.']\n"
     ]
    }
   ],
   "source": [
    "# Text Preprocessing\n",
    "text = \"This is a sample text. You can replace this with your own data.\"\n",
    "\n",
    "# Tokenize each word\n",
    "text_tokens = text.split(\" \")\n",
    "print(text_tokens)"
   ]
  },
  {
   "cell_type": "code",
   "execution_count": 2,
   "id": "3fa3dcb1",
   "metadata": {},
   "outputs": [
    {
     "name": "stdout",
     "output_type": "stream",
     "text": [
      "['this', 'is', 'a', 'sample', 'text', 'you', 'can', 'replace', 'this', 'with', 'your', 'own', 'data']\n"
     ]
    }
   ],
   "source": [
    "# Remove punctuation and convert to lowercase\n",
    "import string\n",
    "text_tokens = [token.strip(string.punctuation).lower() for token in text_tokens]\n",
    "print(text_tokens)"
   ]
  },
  {
   "cell_type": "code",
   "execution_count": 3,
   "id": "c48417a1",
   "metadata": {},
   "outputs": [
    {
     "name": "stdout",
     "output_type": "stream",
     "text": [
      "['a', 'text', 'data', 'you', 'your', 'can', 'replace', 'sample', 'own', 'with', 'is', 'this']\n"
     ]
    }
   ],
   "source": [
    "# Create a list of all unique words\n",
    "text_tokens = list(set(text_tokens))\n",
    "print(text_tokens)"
   ]
  },
  {
   "cell_type": "markdown",
   "id": "8ff0646f",
   "metadata": {},
   "source": [
    "## Building Co-occurrence Matrix:\n"
   ]
  },
  {
   "cell_type": "code",
   "execution_count": null,
   "id": "fb109b31",
   "metadata": {},
   "outputs": [],
   "source": [
    "# Initialize Distance Matrix\n"
   ]
  },
  {
   "cell_type": "code",
   "execution_count": null,
   "id": "e64da219",
   "metadata": {},
   "outputs": [],
   "source": [
    "# Building Co-occurrence Matrix\n"
   ]
  },
  {
   "cell_type": "code",
   "execution_count": null,
   "id": "eced5458",
   "metadata": {},
   "outputs": [],
   "source": [
    "# Print Distance Matrix\n"
   ]
  },
  {
   "cell_type": "markdown",
   "id": "33681ebc",
   "metadata": {},
   "source": [
    "## Top Suggestion:\n"
   ]
  },
  {
   "cell_type": "code",
   "execution_count": null,
   "id": "f729d2de",
   "metadata": {},
   "outputs": [],
   "source": [
    "# Ask user to input a word\n",
    "\n",
    "\n",
    "# Find top suggestion\n",
    "\n",
    "\n",
    "# Print Top Suggestion\n",
    "\n"
   ]
  },
  {
   "cell_type": "code",
   "execution_count": null,
   "id": "fe496f18",
   "metadata": {},
   "outputs": [],
   "source": []
  },
  {
   "cell_type": "markdown",
   "id": "e40d01ff",
   "metadata": {},
   "source": [
    "## Task\n",
    "### Modify the existing code in such a way that\n",
    "1. It will suggest 3 words instead of 1\n",
    "2. Split the entire code into different functions\n",
    "4. Use a text file as sourece instead of a sring"
   ]
  },
  {
   "cell_type": "code",
   "execution_count": null,
   "id": "5ed65b75",
   "metadata": {},
   "outputs": [],
   "source": []
  }
 ],
 "metadata": {
  "kernelspec": {
   "display_name": "Python 3 (ipykernel)",
   "language": "python",
   "name": "python3"
  },
  "language_info": {
   "codemirror_mode": {
    "name": "ipython",
    "version": 3
   },
   "file_extension": ".py",
   "mimetype": "text/x-python",
   "name": "python",
   "nbconvert_exporter": "python",
   "pygments_lexer": "ipython3",
   "version": "3.11.5"
  }
 },
 "nbformat": 4,
 "nbformat_minor": 5
}
